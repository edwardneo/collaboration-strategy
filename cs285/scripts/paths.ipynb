{
 "cells": [
  {
   "cell_type": "code",
   "execution_count": 11,
   "id": "93fa79b1",
   "metadata": {},
   "outputs": [
    {
     "name": "stdout",
     "output_type": "stream",
     "text": [
      "[[ 1  1  2  2  2]\n",
      " [ 0  1 -1  1  0]\n",
      " [-1 -1  0  2  0]\n",
      " [ 0  2  0  1  0]\n",
      " [ 0  1 -1  0  2]]\n",
      "[(0, 0), (1, 0), (1, 1), (2, 1), (3, 1), (3, 2), (3, 3), (4, 3)]\n",
      "(3, 2, 1)\n"
     ]
    }
   ],
   "source": [
    "from collections import deque\n",
    "import numpy as np\n",
    "\n",
    "def find_minimum_steps(grid):\n",
    "    rows, cols = len(grid), len(grid[0])\n",
    "    visited = set()\n",
    "    queue = deque([(0, 0, (0,0,0), 0, [])])  # (row, col, counts, steps, path)\n",
    "\n",
    "    while queue:\n",
    "        row, col, counts, steps, path = queue.popleft()\n",
    "        visited.add((row, col))\n",
    "\n",
    "        if counts[0] >= 3 and counts[1] >= 2 and counts[2] >= 1:\n",
    "            return steps, path, counts\n",
    "\n",
    "        for dr, dc in [(-1, 0), (1, 0), (0, -1), (0, 1)]:\n",
    "            r, c = row + dr, col + dc\n",
    "            if 0 <= r < rows and 0 <= c < cols and (r, c) not in visited:\n",
    "                new_counts = list(counts)\n",
    "                color = grid[r][c]\n",
    "                if color > -1:\n",
    "                    new_counts[color] += 1\n",
    "                new_path = path + [(r, c)]\n",
    "                queue.append((r, c, tuple(new_counts), steps + 1, new_path))\n",
    "\n",
    "    return \"Impossible\", [], counts\n",
    "\n",
    "# Example usage:\n",
    "grid  = np.array(\n",
    "    [\n",
    "        [-1, 0, 0, 2, 0],\n",
    "        [0, 0, 1, 1, 0],\n",
    "        [0, 2, 0, -1, 1],\n",
    "        [1, -1, 1, 2, 1],\n",
    "         [-1, 0, 2, 2, 2]\n",
    "    ]\n",
    ")\n",
    "flattened = grid.flatten()\n",
    "np.random.shuffle(flattened)\n",
    "grid =  flattened.reshape((5, 5))\n",
    "print(grid)\n",
    "result, path, counts = find_minimum_steps(grid)\n",
    "print([(0,0)] + path) \n",
    "print(counts)\n"
   ]
  }
 ],
 "metadata": {
  "kernelspec": {
   "display_name": "Python 3 (ipykernel)",
   "language": "python",
   "name": "python3"
  },
  "language_info": {
   "codemirror_mode": {
    "name": "ipython",
    "version": 3
   },
   "file_extension": ".py",
   "mimetype": "text/x-python",
   "name": "python",
   "nbconvert_exporter": "python",
   "pygments_lexer": "ipython3",
   "version": "3.9.12"
  }
 },
 "nbformat": 4,
 "nbformat_minor": 5
}
