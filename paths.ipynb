{
 "cells": [
  {
   "cell_type": "code",
   "execution_count": 7,
   "id": "93fa79b1",
   "metadata": {},
   "outputs": [
    {
     "name": "stdout",
     "output_type": "stream",
     "text": [
      "[(1, 0), (2, 0), (3, 0), (4, 0), (4, 1), (5, 1)]\n"
     ]
    }
   ],
   "source": [
    "from collections import deque\n",
    "import numpy as np\n",
    "\n",
    "def find_minimum_steps(grid):\n",
    "    rows, cols = len(grid), len(grid[0])\n",
    "    visited = set()\n",
    "    queue = deque([(0, 0, (0,0,0,0), 0, [])])  # (row, col, counts, steps, path)\n",
    "\n",
    "    while queue:\n",
    "        row, col, counts, steps, path = queue.popleft()\n",
    "        visited.add((row, col, counts))\n",
    "\n",
    "        if counts[0] >= 1 and counts[1] >= 0 and counts[2] >= 1 and counts[1] >= 1:\n",
    "            return steps, path\n",
    "\n",
    "        for dr, dc in [(-1, 0), (1, 0), (0, -1), (0, 1)]:\n",
    "            r, c = row + dr, col + dc\n",
    "            if 0 <= r < rows and 0 <= c < cols and (r, c, counts) not in visited:\n",
    "                new_counts = list(counts)\n",
    "                color = grid[r][c]\n",
    "                if color > -1:\n",
    "                    new_counts[color] += 1\n",
    "                new_path = path + [(r, c)]\n",
    "                queue.append((r, c, tuple(new_counts), steps + 1, new_path))\n",
    "\n",
    "    return \"Impossible\", []\n",
    "\n",
    "# Example usage:\n",
    "grid  = np.array([\n",
    "    [-1, -1, -1,  3, -1, -1],\n",
    "    [-1,  1,  1,  1,  1, -1],\n",
    "    [-1,  0,  0, -1,  0, -1],\n",
    "    [ 1, -1,  1, -1,  2, -1],\n",
    "    [-1,  0, -1, -1, -1,  2],\n",
    "    [-1,  2,  1,  0, -1, -1],\n",
    "    ])\n",
    "result, path = find_minimum_steps(grid)\n",
    "print(path)  \n"
   ]
  }
 ],
 "metadata": {
  "kernelspec": {
   "display_name": "Python 3 (ipykernel)",
   "language": "python",
   "name": "python3"
  },
  "language_info": {
   "codemirror_mode": {
    "name": "ipython",
    "version": 3
   },
   "file_extension": ".py",
   "mimetype": "text/x-python",
   "name": "python",
   "nbconvert_exporter": "python",
   "pygments_lexer": "ipython3",
   "version": "3.9.12"
  }
 },
 "nbformat": 4,
 "nbformat_minor": 5
}
